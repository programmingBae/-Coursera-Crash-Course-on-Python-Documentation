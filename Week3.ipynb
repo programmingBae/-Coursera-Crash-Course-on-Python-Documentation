{
  "nbformat": 4,
  "nbformat_minor": 0,
  "metadata": {
    "colab": {
      "name": "Week3.ipynb",
      "provenance": [],
      "authorship_tag": "ABX9TyP81urtMk+JIcfJMojEbP+g",
      "include_colab_link": true
    },
    "kernelspec": {
      "name": "python3",
      "display_name": "Python 3"
    },
    "language_info": {
      "name": "python"
    }
  },
  "cells": [
    {
      "cell_type": "markdown",
      "metadata": {
        "id": "view-in-github",
        "colab_type": "text"
      },
      "source": [
        "<a href=\"https://colab.research.google.com/github/programmingBae/Coursera-Crash-Course-on-Python-Documentation/blob/main/Week3.ipynb\" target=\"_parent\"><img src=\"https://colab.research.google.com/assets/colab-badge.svg\" alt=\"Open In Colab\"/></a>"
      ]
    },
    {
      "cell_type": "markdown",
      "source": [
        "Fill in the blanks to make the print_prime_factors function print all the prime factors of a number. A prime factor is a number that is prime and divides another without a remainder."
      ],
      "metadata": {
        "id": "duLlxjx96HkI"
      }
    },
    {
      "cell_type": "code",
      "execution_count": null,
      "metadata": {
        "id": "R5CaVRfg6BXd"
      },
      "outputs": [],
      "source": [
        "def print_prime_factors(number):\n",
        "  # Start with two, which is the first prime\n",
        "  factor = 2\n",
        "  # Keep going until the factor is larger than the number\n",
        "  while factor <= number:\n",
        "    # Check if factor is a divisor of number\n",
        "    if number % factor == 0:\n",
        "      # If it is, print it and divide the original number\n",
        "      print(factor)\n",
        "      number = number / factor\n",
        "    else:\n",
        "      # If it's not, increment the factor by one\n",
        "      factor += 1\n",
        "  return \"Done\"\n",
        "\n",
        "print_prime_factors(100)\n",
        "# Should print 2,2,5,5\n",
        "# DO NOT DELETE THIS COMMENT"
      ]
    },
    {
      "cell_type": "markdown",
      "source": [
        "The following code can lead to an infinite loop. Fix the code so that it can finish successfully for all numbers.\n",
        "\n",
        "Note: Try running your function with the number 0 as the input, and see what you get!"
      ],
      "metadata": {
        "id": "iIdfkslE6KPT"
      }
    },
    {
      "cell_type": "code",
      "source": [
        "def is_power_of_two(n):\n",
        "  # Check if the number can be divided by two without a remainder\n",
        "  while n % 2 == 0:\n",
        "    n = n / 2\n",
        "    if n<=1:\n",
        "      break\n",
        "  # If after dividing by two the number is 1, it's a power of two\n",
        "  if n == 1:\n",
        "    return True\n",
        "  return False\n",
        "  \n",
        "\n",
        "print(is_power_of_two(0)) # Should be False\n",
        "print(is_power_of_two(1)) # Should be True\n",
        "print(is_power_of_two(8)) # Should be True\n",
        "print(is_power_of_two(9)) # Should be False"
      ],
      "metadata": {
        "id": "dIZ4jA0E6Mej"
      },
      "execution_count": null,
      "outputs": []
    },
    {
      "cell_type": "markdown",
      "source": [
        "The multiplication_table function prints the results of a number passed to it multiplied by 1 through 5. An additional requirement is that the result is not to exceed 25, which is done with the break statement. Fill in the blanks to complete the function to satisfy these conditions."
      ],
      "metadata": {
        "id": "-qr9MLS36OTJ"
      }
    },
    {
      "cell_type": "code",
      "source": [
        "def multiplication_table(number):\n",
        "\t# Initialize the starting point of the multiplication table\n",
        "\tmultiplier = 1\n",
        "\t# Only want to loop through 5\n",
        "\twhile multiplier <= 5:\n",
        "\t\tresult = number * multiplier\n",
        "\t\t# What is the additional condition to exit out of the loop?\n",
        "\t\tif result > 25 :\n",
        "\t\t\tbreak\n",
        "\t\tprint(str(number) + \"x\" + str(multiplier) + \"=\" + str(result))\n",
        "\t\t# Increment the variable for the loop\n",
        "\t\tmultiplier += 1\n",
        "\n",
        "multiplication_table(3) \n",
        "# Should print: 3x1=3 3x2=6 3x3=9 3x4=12 3x5=15\n",
        "\n",
        "multiplication_table(5) \n",
        "# Should print: 5x1=5 5x2=10 5x3=15 5x4=20 5x5=25\n",
        "\n",
        "multiplication_table(8)\t\n",
        "# Should print: 8x1=8 8x2=16 8x3=24"
      ],
      "metadata": {
        "id": "B92G15_G6UHK"
      },
      "execution_count": null,
      "outputs": []
    },
    {
      "cell_type": "markdown",
      "source": [
        "Fill in the empty function so that it returns the sum of all the divisors of a number, without including it. A divisor is a number that divides into another without a remainder."
      ],
      "metadata": {
        "id": "Q6QehwQC6y3p"
      }
    },
    {
      "cell_type": "code",
      "source": [
        "def sum_divisors(n):\n",
        "  sum = 0\n",
        "  for i in range (1,n):\n",
        "    if n % i == 0:\n",
        "      sum += i\n",
        "  # Return the sum of all divisors of n, not including n\n",
        "  return sum\n",
        "\n",
        "print(sum_divisors(0))\n",
        "# 0\n",
        "print(sum_divisors(3)) # Should sum of 1\n",
        "# 1\n",
        "print(sum_divisors(36)) # Should sum of 1+2+3+4+6+9+12+18\n",
        "# 55\n",
        "print(sum_divisors(102)) # Should be sum of 2+3+6+17+34+51\n",
        "# 114"
      ],
      "metadata": {
        "id": "Bs0pFYwv6zOs"
      },
      "execution_count": null,
      "outputs": []
    },
    {
      "cell_type": "markdown",
      "source": [
        "The retry function tries to execute an operation that might fail, it retries the operation for a number of attempts.  Currently the code will keep executing the function even if it succeeds. Fill in the blank so the code stops trying after the operation succeeded."
      ],
      "metadata": {
        "id": "wW15ZyAK7Q4-"
      }
    },
    {
      "cell_type": "code",
      "source": [
        "def retry(operation, attempts):\n",
        "  for n in range(attempts):\n",
        "    if operation():\n",
        "      print(\"Attempt \" + str(n) + \" succeeded\")\n",
        "      break\n",
        "    else:\n",
        "      print(\"Attempt \" + str(n) + \" failed\")\n",
        "\n",
        "retry(create_user, 3)\n",
        "retry(stop_service, 5)"
      ],
      "metadata": {
        "id": "Q07xSw7x7Rb3"
      },
      "execution_count": null,
      "outputs": []
    },
    {
      "cell_type": "markdown",
      "source": [
        "Fill in the blanks to make the is_power_of function return whether the number is a power of the given base. Note: base is assumed to be a positive number. Tip: for functions that return a boolean value, you can return the result of a comparison."
      ],
      "metadata": {
        "id": "t-maXu-z7YVK"
      }
    },
    {
      "cell_type": "code",
      "source": [
        "def is_power_of(number, base):\n",
        "  # Base case: when number is smaller than base.\n",
        "  if number < base:\n",
        "    # If number is equal to 1, it's a power (base**0).\n",
        "    if number == 1:\n",
        "      return True\n",
        "    else:\n",
        "      return False\n",
        "  # Recursive case: keep dividing number by base.\n",
        "  return is_power_of(number/base, base)\n",
        "\n",
        "print(is_power_of(8,2)) # Should be True\n",
        "print(is_power_of(64,4)) # Should be True\n",
        "print(is_power_of(70,10)) # Should be False"
      ],
      "metadata": {
        "id": "GFUjUoDQ7Y60"
      },
      "execution_count": null,
      "outputs": []
    },
    {
      "cell_type": "markdown",
      "source": [
        "The count_users function recursively counts the amount of users that belong to a group in the company system, by going through each of the members of a group and if one of them is a group, recursively calling the function and counting the members. But it has a bug! Can you spot the problem and fix it?"
      ],
      "metadata": {
        "id": "pmV4nPno7aVH"
      }
    },
    {
      "cell_type": "code",
      "source": [
        "def count_users(group):\n",
        "  count = 0\n",
        "  for member in get_members(group):\n",
        "    count += 1\n",
        "    if is_group(member):\n",
        "      count += count_users(member) - 1\n",
        "   \n",
        "  return count\n",
        "\n",
        "print(count_users(\"sales\")) # Should be 3\n",
        "print(count_users(\"engineering\")) # Should be 8\n",
        "print(count_users(\"everyone\")) # Should be 18"
      ],
      "metadata": {
        "id": "bueP_vRF7cwM"
      },
      "execution_count": null,
      "outputs": []
    },
    {
      "cell_type": "markdown",
      "source": [
        "Implement the sum_positive_numbers function, as a recursive function that returns the sum of all positive numbers between the number n received and 1. For example, when n is 3 it should return 1+2+3=6, and when n is 5 it should return 1+2+3+4+5=15."
      ],
      "metadata": {
        "id": "d0yyCsor7tiH"
      }
    },
    {
      "cell_type": "code",
      "source": [
        "def sum_positive_numbers(n):\n",
        "  temp = 0\n",
        "  if n == 1:\n",
        "    return 1\n",
        "  else:\n",
        "    temp += n + sum_positive_numbers(n-1)\n",
        "    \n",
        "  return temp\n",
        "\n",
        "print(sum_positive_numbers(3)) # Should be 6\n",
        "print(sum_positive_numbers(5)) # Should be 15"
      ],
      "metadata": {
        "id": "sKRT0BA97v7C"
      },
      "execution_count": null,
      "outputs": []
    },
    {
      "cell_type": "markdown",
      "source": [
        "Complete the function digits(n) that returns how many digits the number has. For example: 25 has 2 digits and 144 has 3 digits. Tip: you can figure out the digits of a number by dividing it by 10 once per digit until there are no digits left."
      ],
      "metadata": {
        "id": "P_CENxh0738o"
      }
    },
    {
      "cell_type": "code",
      "source": [
        "import math\n",
        "def digits(n):\n",
        "\tcount = 0\n",
        "\tif n == 0:\n",
        "\t  return 1\n",
        "\twhile (n > 0):\n",
        "\t\tcount += 1\n",
        "\t\tn = n // 10\n",
        "\t\t\n",
        "\t\t\n",
        "\treturn count\n",
        "\t\n",
        "print(digits(25))   # Should print 2\n",
        "print(digits(144))  # Should print 3\n",
        "print(digits(1000)) # Should print 4\n",
        "print(digits(0))    # Should print 1"
      ],
      "metadata": {
        "id": "mHhWZELF741-"
      },
      "execution_count": null,
      "outputs": []
    },
    {
      "cell_type": "markdown",
      "source": [
        "This function prints out a multiplication table (where each number is the result of multiplying the first number of its row by the number at the top of its column). Fill in the blanks so that calling multiplication_table(1, 3) will print out:\n",
        "\n",
        "1 2 3 \n",
        "\n",
        "2 4 6 \n",
        "\n",
        "3 6 9"
      ],
      "metadata": {
        "id": "T56Hp18z76sZ"
      }
    },
    {
      "cell_type": "code",
      "source": [
        "def multiplication_table(start, stop):\n",
        "\tfor x in range (start,stop+1):\n",
        "\t\tfor y in range (start,stop+1):\n",
        "\t\t\tprint(str(x*y), end=\" \")\n",
        "\t\tprint()\n",
        "\n",
        "multiplication_table(1, 3)\n",
        "# Should print the multiplication table shown above"
      ],
      "metadata": {
        "id": "dhRbNzbi79D4"
      },
      "execution_count": null,
      "outputs": []
    },
    {
      "cell_type": "markdown",
      "source": [
        "The counter function counts down from start to stop when start is bigger than stop, and counts up from start to stop otherwise. Fill in the blanks to make this work correctly."
      ],
      "metadata": {
        "id": "1b0kAL8a7_-J"
      }
    },
    {
      "cell_type": "code",
      "source": [
        "def counter(start, stop):\n",
        "\tx = start\n",
        "\tif start > stop:\n",
        "\t\treturn_string = \"Counting down: \"\n",
        "\t\twhile x >= stop:\n",
        "\t\t\treturn_string += str(x)\n",
        "\t\t\tif x>stop:\n",
        "\t\t\t\treturn_string += \",\"\n",
        "\t\t\tx -= 1\n",
        "\telse:\n",
        "\t\treturn_string = \"Counting up: \"\n",
        "\t\twhile x <= stop:\n",
        "\t\t\treturn_string += str(x)\n",
        "\t\t\tif x < stop:\n",
        "\t\t\t\treturn_string += \",\"\n",
        "\t\t\tx += 1\n",
        "\treturn return_string\n",
        "\n",
        "print(counter(1, 10)) # Should be \"Counting up: 1,2,3,4,5,6,7,8,9,10\"\n",
        "print(counter(2, 1)) # Should be \"Counting down: 2,1\"\n",
        "print(counter(5, 5)) # Should be \"Counting up: 5\""
      ],
      "metadata": {
        "id": "idtfUAbl8AbT"
      },
      "execution_count": null,
      "outputs": []
    },
    {
      "cell_type": "markdown",
      "source": [
        "The even_numbers function returns a space-separated string of all positive numbers that are divisible by 2, up to and including the maximum that's passed into the function. For example, even_numbers(6) returns “2 4 6”. Fill in the blank to make this work."
      ],
      "metadata": {
        "id": "cqDJnSU58DPg"
      }
    },
    {
      "cell_type": "code",
      "source": [
        "def even_numbers(maximum):\n",
        "\tif maximum < 2:\n",
        "\t\treturn \"\"\n",
        "\treturn_string = \"\"\n",
        "\tfor x in range (2,maximum+1,2):\n",
        "\t\treturn_string += str(x) + \" \"\n",
        "\treturn return_string.strip()\n",
        "\n",
        "print(even_numbers(6))  # Should be 2 4 6\n",
        "print(even_numbers(10)) # Should be 2 4 6 8 10\n",
        "print(even_numbers(1))  # No numbers displayed\n",
        "print(even_numbers(3))  # Should be 2\n",
        "print(even_numbers(0))  # No numbers displayed"
      ],
      "metadata": {
        "id": "bjn5NpnV8F0r"
      },
      "execution_count": null,
      "outputs": []
    },
    {
      "cell_type": "markdown",
      "source": [
        ""
      ],
      "metadata": {
        "id": "l_DNrTfM8Htu"
      }
    }
  ]
}